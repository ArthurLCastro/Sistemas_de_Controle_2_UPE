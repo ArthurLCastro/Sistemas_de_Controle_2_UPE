{
 "cells": [
  {
   "cell_type": "markdown",
   "metadata": {},
   "source": [
    "## **Resolução da PC3.5**"
   ]
  },
  {
   "cell_type": "code",
   "execution_count": 6,
   "metadata": {},
   "outputs": [],
   "source": [
    "from control.matlab import *\n",
    "\n",
    "\n",
    "# ----- Modelo 1 -----\n",
    "A1 = [\n",
    "    [0, 1, 0],\n",
    "    [0, 0, 1],\n",
    "    [-4, -5, -8],\n",
    "]\n",
    "\n",
    "B1 = [\n",
    "    [0],\n",
    "    [0],\n",
    "    [4],\n",
    "]\n",
    "\n",
    "C1 = [\n",
    "    [1, 0, 0]\n",
    "]\n",
    "\n",
    "D1 = [\n",
    "    [0]\n",
    "]\n",
    "\n",
    "\n",
    "# ----- Modelo 2 -----\n",
    "A2 = [\n",
    "    [0.5000, 0.5000, 0.7071],\n",
    "    [-0.5000, -0.5000, 0.7071],\n",
    "    [-6.3640, -0.7071, -8.000],\n",
    "]\n",
    "\n",
    "B2 = [\n",
    "    [0],\n",
    "    [0],\n",
    "    [4],\n",
    "]\n",
    "\n",
    "C2 = [\n",
    "    [0.7071, -0.7071, 0]\n",
    "]\n",
    "\n",
    "D2 = [\n",
    "    [0]\n",
    "]"
   ]
  },
  {
   "cell_type": "markdown",
   "metadata": {},
   "source": [
    "**Resolução da Letra a**"
   ]
  },
  {
   "cell_type": "code",
   "execution_count": 7,
   "metadata": {},
   "outputs": [
    {
     "name": "stdout",
     "output_type": "stream",
     "text": [
      "<TransferFunction>: sys[4]\n",
      "Inputs (1): ['u[0]']\n",
      "Outputs (1): ['y[0]']\n",
      "\n",
      "\n",
      "-5.329e-15 s^2 - 6.217e-15 s + 4\n",
      "--------------------------------\n",
      "     s^3 + 8 s^2 + 5 s + 4\n",
      "\n"
     ]
    }
   ],
   "source": [
    "# Determinando Y(s)/U(s) para x1\n",
    "\n",
    "sys1_ss = ss(A1, B1, C1, D1)\n",
    "# print(sys1_ss)\n",
    "sys1_tf = tf(sys1_ss)\n",
    "print(sys1_tf)"
   ]
  },
  {
   "cell_type": "markdown",
   "metadata": {},
   "source": [
    "Durante a conversão foram obtidas parcelas muito pequenas que multiplicam `s^2` e `s`, podendo ser desconsideradas.\n",
    "\n",
    "Assim teremos o numerador com valor igual a 4"
   ]
  },
  {
   "cell_type": "markdown",
   "metadata": {},
   "source": [
    "**Resolução da Letra b**"
   ]
  },
  {
   "cell_type": "code",
   "execution_count": 8,
   "metadata": {},
   "outputs": [
    {
     "name": "stdout",
     "output_type": "stream",
     "text": [
      "<TransferFunction>: sys[6]\n",
      "Inputs (1): ['u[0]']\n",
      "Outputs (1): ['y[0]']\n",
      "\n",
      "\n",
      "-1.155e-14 s^2 - 1.599e-14 s + 4\n",
      "--------------------------------\n",
      "     s^3 + 8 s^2 + 5 s + 4\n",
      "\n"
     ]
    }
   ],
   "source": [
    "# Determinando Y(s)/U(s) para x2\n",
    "\n",
    "sys2_ss = ss(A2, B2, C2, D2)\n",
    "# print(sys2_ss)\n",
    "sys2_tf = tf(sys2_ss)\n",
    "print(sys2_tf)"
   ]
  },
  {
   "cell_type": "markdown",
   "metadata": {},
   "source": [
    "Durante a conversão foram obtidas parcelas muito pequenas que multiplicam `s^2` e `s`, podendo ser desconsideradas.\n",
    "\n",
    "Assim teremos o numerador com valor igual a 4"
   ]
  },
  {
   "cell_type": "markdown",
   "metadata": {},
   "source": [
    "**Resolução da Letra c**"
   ]
  },
  {
   "cell_type": "markdown",
   "metadata": {},
   "source": [
    "Percebe-se que os dois modelos de espaços de estados possuem a mesma função de transferência."
   ]
  }
 ],
 "metadata": {
  "kernelspec": {
   "display_name": "venv",
   "language": "python",
   "name": "python3"
  },
  "language_info": {
   "codemirror_mode": {
    "name": "ipython",
    "version": 3
   },
   "file_extension": ".py",
   "mimetype": "text/x-python",
   "name": "python",
   "nbconvert_exporter": "python",
   "pygments_lexer": "ipython3",
   "version": "3.10.12"
  }
 },
 "nbformat": 4,
 "nbformat_minor": 2
}
